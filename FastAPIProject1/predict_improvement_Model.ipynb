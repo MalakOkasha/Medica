{
 "cells": [
  {
   "metadata": {
    "ExecuteTime": {
     "end_time": "2025-06-14T02:30:08.417507Z",
     "start_time": "2025-06-14T02:30:05.363371Z"
    }
   },
   "cell_type": "code",
   "source": [
    "import pandas as pd\n",
    "import numpy as np\n",
    "from sklearn.model_selection import train_test_split, cross_val_score, GridSearchCV\n",
    "from sklearn.preprocessing import LabelEncoder, StandardScaler\n",
    "from sklearn.ensemble import RandomForestClassifier\n",
    "from sklearn.svm import SVC\n",
    "from sklearn.metrics import classification_report, confusion_matrix, accuracy_score, roc_auc_score\n",
    "import xgboost as xgb\n",
    "import xgboost as xgb\n",
    "import lightgbm as lgb\n",
    "from catboost import CatBoostClassifier\n",
    "import matplotlib.pyplot as plt\n",
    "import seaborn as sns\n",
    "from sklearn.metrics import roc_curve, auc\n",
    "import warnings\n",
    "warnings.filterwarnings('ignore')"
   ],
   "id": "6aaf01f1d503e304",
   "outputs": [],
   "execution_count": 1
  },
  {
   "metadata": {
    "ExecuteTime": {
     "end_time": "2025-06-14T02:30:08.725741Z",
     "start_time": "2025-06-14T02:30:08.550488Z"
    }
   },
   "cell_type": "code",
   "source": [
    "\n",
    "# Load the dataset\n",
    "print(\"Loading dataset...\")\n",
    "df = pd.read_csv('predict_improvement_Dataset.csv')\n",
    "\n",
    "df['allergies'] = df['allergies'].fillna('None')\n",
    "df['chronic conditions'] = df['chronic conditions'].fillna('None')\n",
    "\n",
    "print(f\"Dataset shape: {df.shape}\")\n",
    "print(f\"Columns: {list(df.columns)}\")\n",
    "print(\"\\nFirst few rows:\")\n",
    "print(df.head())"
   ],
   "id": "69325ca94a0c44dc",
   "outputs": [
    {
     "name": "stdout",
     "output_type": "stream",
     "text": [
      "Loading dataset...\n",
      "Dataset shape: (15000, 8)\n",
      "Columns: ['age', 'gender', 'diagnosis', 'medicine', 'allergies', 'chronic conditions', 'severity_score', 'improved']\n",
      "\n",
      "First few rows:\n",
      "   age  gender                     diagnosis     medicine   allergies  \\\n",
      "0   41    Male  Type 2 Diabetes_uncontrolled      Insulin  Penicillin   \n",
      "1   54    Male            Hypertension_51-70   Amlodipine        None   \n",
      "2   42    Male  Type 2 Diabetes_uncontrolled      Insulin        None   \n",
      "3   16  Female                 Asthma_severe  Fluticasone        None   \n",
      "4   22    Male                 Asthma_severe  Fluticasone        None   \n",
      "\n",
      "  chronic conditions  severity_score improved  \n",
      "0               None       38.189022      yes  \n",
      "1               None       59.748302       no  \n",
      "2                CKD       68.142473       no  \n",
      "3               None       36.109226      yes  \n",
      "4               None       64.668066       no  \n"
     ]
    }
   ],
   "execution_count": 2
  },
  {
   "metadata": {
    "ExecuteTime": {
     "end_time": "2025-06-14T02:30:09.066255Z",
     "start_time": "2025-06-14T02:30:09.033370Z"
    }
   },
   "cell_type": "code",
   "source": [
    "\n",
    "print(f\"\\nTarget distribution:\")\n",
    "print(df['improved'].value_counts(normalize=True))"
   ],
   "id": "eb87a2853e3cb10d",
   "outputs": [
    {
     "name": "stdout",
     "output_type": "stream",
     "text": [
      "\n",
      "Target distribution:\n",
      "improved\n",
      "no     0.5426\n",
      "yes    0.4574\n",
      "Name: proportion, dtype: float64\n"
     ]
    }
   ],
   "execution_count": 3
  },
  {
   "metadata": {
    "ExecuteTime": {
     "end_time": "2025-06-14T02:30:10.939140Z",
     "start_time": "2025-06-14T02:30:10.895205Z"
    }
   },
   "cell_type": "code",
   "source": [
    "\n",
    "# Preprocessing\n",
    "print(\"\\nPreprocessing data...\")\n",
    "\n",
    "# Separate features and target\n",
    "X = df.drop('improved', axis=1)\n",
    "y = df['improved']"
   ],
   "id": "65988085b1872863",
   "outputs": [
    {
     "name": "stdout",
     "output_type": "stream",
     "text": [
      "\n",
      "Preprocessing data...\n"
     ]
    }
   ],
   "execution_count": 4
  },
  {
   "metadata": {
    "ExecuteTime": {
     "end_time": "2025-06-14T02:30:11.667413Z",
     "start_time": "2025-06-14T02:30:11.654489Z"
    }
   },
   "cell_type": "code",
   "source": [
    "\n",
    "# Encode categorical variables\n",
    "label_encoders = {}\n",
    "categorical_columns = ['gender', 'diagnosis', 'medicine', 'allergies', 'chronic conditions']"
   ],
   "id": "dccf9d1ea1770581",
   "outputs": [],
   "execution_count": 5
  },
  {
   "metadata": {
    "ExecuteTime": {
     "end_time": "2025-06-14T02:30:12.209040Z",
     "start_time": "2025-06-14T02:30:11.877368Z"
    }
   },
   "cell_type": "code",
   "source": [
    "\n",
    "X_encoded = X.copy()\n",
    "for col in categorical_columns:\n",
    "    le = LabelEncoder()\n",
    "    X_encoded[col] = le.fit_transform(X[col])\n",
    "    label_encoders[col] = le"
   ],
   "id": "cb5734ff8cb33cde",
   "outputs": [],
   "execution_count": 6
  },
  {
   "metadata": {
    "ExecuteTime": {
     "end_time": "2025-06-14T02:30:12.915173Z",
     "start_time": "2025-06-14T02:30:12.793331Z"
    }
   },
   "cell_type": "code",
   "source": [
    "\n",
    "# Encode target variable\n",
    "y_encoded = LabelEncoder().fit_transform(y)\n",
    "\n",
    "print(f\"Features after encoding: {list(X_encoded.columns)}\")\n",
    "print(f\"Feature shapes: {X_encoded.shape}\")\n",
    "\n",
    "# Split the data\n",
    "X_train, X_test, y_train, y_test = train_test_split(\n",
    "    X_encoded, y_encoded, test_size=0.2, random_state=42, stratify=y_encoded\n",
    ")"
   ],
   "id": "17c46ab5fc91f172",
   "outputs": [
    {
     "name": "stdout",
     "output_type": "stream",
     "text": [
      "Features after encoding: ['age', 'gender', 'diagnosis', 'medicine', 'allergies', 'chronic conditions', 'severity_score']\n",
      "Feature shapes: (15000, 7)\n"
     ]
    }
   ],
   "execution_count": 7
  },
  {
   "metadata": {
    "ExecuteTime": {
     "end_time": "2025-06-14T02:30:13.234646Z",
     "start_time": "2025-06-14T02:30:13.142420Z"
    }
   },
   "cell_type": "code",
   "source": [
    "\n",
    "# Scale features for SVM\n",
    "scaler = StandardScaler()\n",
    "X_train_scaled = scaler.fit_transform(X_train)\n",
    "X_test_scaled = scaler.transform(X_test)\n",
    "\n",
    "print(f\"Training set size: {X_train.shape}\")\n",
    "print(f\"Test set size: {X_test.shape}\")"
   ],
   "id": "748b6ef8d0601dc9",
   "outputs": [
    {
     "name": "stdout",
     "output_type": "stream",
     "text": [
      "Training set size: (12000, 7)\n",
      "Test set size: (3000, 7)\n"
     ]
    }
   ],
   "execution_count": 8
  },
  {
   "metadata": {
    "ExecuteTime": {
     "end_time": "2025-06-14T02:30:13.646408Z",
     "start_time": "2025-06-14T02:30:13.595428Z"
    }
   },
   "cell_type": "code",
   "source": [
    "\n",
    "# Define models\n",
    "models = {\n",
    "    'XGBoost': xgb.XGBClassifier(random_state=42, eval_metric='logloss'),\n",
    "    # 'Random Forest': RandomForestClassifier(random_state=42),\n",
    "    # 'SVM': SVC(random_state=42, probability=True),\n",
    "    'LightGBM': lgb.LGBMClassifier(random_state=42),\n",
    "    # 'CatBoost': CatBoostClassifier(random_seed=42, verbose=0)\n",
    "}"
   ],
   "id": "ac9cd326379834c3",
   "outputs": [],
   "execution_count": 9
  },
  {
   "metadata": {
    "ExecuteTime": {
     "end_time": "2025-06-14T02:30:37.761651Z",
     "start_time": "2025-06-14T02:30:13.996373Z"
    }
   },
   "cell_type": "code",
   "source": [
    "\n",
    "# Train and evaluate models\n",
    "results = {}\n",
    "trained_models = {}\n",
    "\n",
    "print(\"\\n\" + \"=\"*50)\n",
    "print(\"TRAINING AND EVALUATING MODELS\")\n",
    "print(\"=\"*50)\n",
    "\n",
    "for name, model in models.items():\n",
    "    print(f\"\\n🔹 Training {name}...\")\n",
    "\n",
    "    # Use scaled data for SVM, original for tree-based models\n",
    "    if name == 'SVM':\n",
    "        X_train_use = X_train_scaled\n",
    "        X_test_use = X_test_scaled\n",
    "    else:\n",
    "        X_train_use = X_train\n",
    "        X_test_use = X_test\n",
    "\n",
    "    # Train the model\n",
    "    model.fit(X_train_use, y_train)\n",
    "    trained_models[name] = model\n",
    "\n",
    "    # Make predictions\n",
    "    y_pred = model.predict(X_test_use)\n",
    "    y_pred_proba = model.predict_proba(X_test_use)[:, 1]\n",
    "\n",
    "    # Calculate metrics\n",
    "    accuracy = accuracy_score(y_test, y_pred)\n",
    "    roc_auc = roc_auc_score(y_test, y_pred_proba)\n",
    "\n",
    "    # Cross-validation\n",
    "    cv_scores = cross_val_score(model, X_train_use, y_train, cv=5, scoring='accuracy')\n",
    "\n",
    "    results[name] = {\n",
    "        'accuracy': accuracy,\n",
    "        'roc_auc': roc_auc,\n",
    "        'cv_mean': cv_scores.mean(),\n",
    "        'cv_std': cv_scores.std(),\n",
    "        'y_pred': y_pred,\n",
    "        'y_pred_proba': y_pred_proba\n",
    "    }\n",
    "\n",
    "    print(f\"✅ {name} Results:\")\n",
    "    print(f\"   Accuracy: {accuracy:.4f}\")\n",
    "    print(f\"   ROC-AUC: {roc_auc:.4f}\")\n",
    "    print(f\"   CV Accuracy: {cv_scores.mean():.4f} (+/- {cv_scores.std()*2:.4f})\")"
   ],
   "id": "56b40e2c7927951a",
   "outputs": [
    {
     "name": "stdout",
     "output_type": "stream",
     "text": [
      "\n",
      "==================================================\n",
      "TRAINING AND EVALUATING MODELS\n",
      "==================================================\n",
      "\n",
      "🔹 Training XGBoost...\n",
      "✅ XGBoost Results:\n",
      "   Accuracy: 0.9290\n",
      "   ROC-AUC: 0.9791\n",
      "   CV Accuracy: 0.9183 (+/- 0.0028)\n",
      "\n",
      "🔹 Training LightGBM...\n",
      "[LightGBM] [Warning] Found whitespace in feature_names, replace with underlines\n",
      "[LightGBM] [Info] Number of positive: 5489, number of negative: 6511\n",
      "[LightGBM] [Info] Auto-choosing col-wise multi-threading, the overhead of testing was 0.003228 seconds.\n",
      "You can set `force_col_wise=true` to remove the overhead.\n",
      "[LightGBM] [Info] Total Bins 390\n",
      "[LightGBM] [Info] Number of data points in the train set: 12000, number of used features: 7\n",
      "[LightGBM] [Info] [binary:BoostFromScore]: pavg=0.457417 -> initscore=-0.170747\n",
      "[LightGBM] [Info] Start training from score -0.170747\n",
      "[LightGBM] [Warning] Found whitespace in feature_names, replace with underlines\n",
      "[LightGBM] [Info] Number of positive: 4392, number of negative: 5208\n",
      "[LightGBM] [Info] Auto-choosing col-wise multi-threading, the overhead of testing was 0.003642 seconds.\n",
      "You can set `force_col_wise=true` to remove the overhead.\n",
      "[LightGBM] [Info] Total Bins 389\n",
      "[LightGBM] [Info] Number of data points in the train set: 9600, number of used features: 7\n",
      "[LightGBM] [Info] [binary:BoostFromScore]: pavg=0.457500 -> initscore=-0.170411\n",
      "[LightGBM] [Info] Start training from score -0.170411\n",
      "[LightGBM] [Warning] Found whitespace in feature_names, replace with underlines\n",
      "[LightGBM] [Info] Number of positive: 4391, number of negative: 5209\n",
      "[LightGBM] [Info] Auto-choosing col-wise multi-threading, the overhead of testing was 0.003696 seconds.\n",
      "You can set `force_col_wise=true` to remove the overhead.\n",
      "[LightGBM] [Info] Total Bins 389\n",
      "[LightGBM] [Info] Number of data points in the train set: 9600, number of used features: 7\n",
      "[LightGBM] [Info] [binary:BoostFromScore]: pavg=0.457396 -> initscore=-0.170831\n",
      "[LightGBM] [Info] Start training from score -0.170831\n",
      "[LightGBM] [Warning] Found whitespace in feature_names, replace with underlines\n",
      "[LightGBM] [Info] Number of positive: 4391, number of negative: 5209\n",
      "[LightGBM] [Info] Auto-choosing row-wise multi-threading, the overhead of testing was 0.000973 seconds.\n",
      "You can set `force_row_wise=true` to remove the overhead.\n",
      "And if memory is not enough, you can set `force_col_wise=true`.\n",
      "[LightGBM] [Info] Total Bins 390\n",
      "[LightGBM] [Info] Number of data points in the train set: 9600, number of used features: 7\n",
      "[LightGBM] [Info] [binary:BoostFromScore]: pavg=0.457396 -> initscore=-0.170831\n",
      "[LightGBM] [Info] Start training from score -0.170831\n",
      "[LightGBM] [Warning] Found whitespace in feature_names, replace with underlines\n",
      "[LightGBM] [Info] Number of positive: 4391, number of negative: 5209\n",
      "[LightGBM] [Info] Auto-choosing col-wise multi-threading, the overhead of testing was 0.019069 seconds.\n",
      "You can set `force_col_wise=true` to remove the overhead.\n",
      "[LightGBM] [Info] Total Bins 390\n",
      "[LightGBM] [Info] Number of data points in the train set: 9600, number of used features: 7\n",
      "[LightGBM] [Info] [binary:BoostFromScore]: pavg=0.457396 -> initscore=-0.170831\n",
      "[LightGBM] [Info] Start training from score -0.170831\n",
      "[LightGBM] [Warning] Found whitespace in feature_names, replace with underlines\n",
      "[LightGBM] [Info] Number of positive: 4391, number of negative: 5209\n",
      "[LightGBM] [Info] Auto-choosing col-wise multi-threading, the overhead of testing was 0.003427 seconds.\n",
      "You can set `force_col_wise=true` to remove the overhead.\n",
      "[LightGBM] [Info] Total Bins 390\n",
      "[LightGBM] [Info] Number of data points in the train set: 9600, number of used features: 7\n",
      "[LightGBM] [Info] [binary:BoostFromScore]: pavg=0.457396 -> initscore=-0.170831\n",
      "[LightGBM] [Info] Start training from score -0.170831\n",
      "✅ LightGBM Results:\n",
      "   Accuracy: 0.9350\n",
      "   ROC-AUC: 0.9812\n",
      "   CV Accuracy: 0.9246 (+/- 0.0030)\n"
     ]
    }
   ],
   "execution_count": 10
  },
  {
   "metadata": {
    "ExecuteTime": {
     "end_time": "2025-06-14T02:30:38.369985Z",
     "start_time": "2025-06-14T02:30:38.060384Z"
    }
   },
   "cell_type": "code",
   "source": [
    "\n",
    "# Detailed evaluation for each model\n",
    "print(\"\\n\" + \"=\"*50)\n",
    "print(\"DETAILED MODEL EVALUATION\")\n",
    "print(\"=\"*50)\n",
    "\n",
    "for name in models.keys():\n",
    "    print(f\"\\n🔸 {name} Detailed Results:\")\n",
    "    print(\"-\" * 30)\n",
    "    print(\"Classification Report:\")\n",
    "    print(classification_report(y_test, results[name]['y_pred'],\n",
    "                              target_names=['no improvement', 'improvement']))\n",
    "\n",
    "    print(\"\\nConfusion Matrix:\")\n",
    "    cm = confusion_matrix(y_test, results[name]['y_pred'])\n",
    "    print(cm)"
   ],
   "id": "21615a5e8844b54b",
   "outputs": [
    {
     "name": "stdout",
     "output_type": "stream",
     "text": [
      "\n",
      "==================================================\n",
      "DETAILED MODEL EVALUATION\n",
      "==================================================\n",
      "\n",
      "🔸 XGBoost Detailed Results:\n",
      "------------------------------\n",
      "Classification Report:\n",
      "                precision    recall  f1-score   support\n",
      "\n",
      "no improvement       0.93      0.94      0.93      1628\n",
      "   improvement       0.93      0.92      0.92      1372\n",
      "\n",
      "      accuracy                           0.93      3000\n",
      "     macro avg       0.93      0.93      0.93      3000\n",
      "  weighted avg       0.93      0.93      0.93      3000\n",
      "\n",
      "\n",
      "Confusion Matrix:\n",
      "[[1530   98]\n",
      " [ 115 1257]]\n",
      "\n",
      "🔸 LightGBM Detailed Results:\n",
      "------------------------------\n",
      "Classification Report:\n",
      "                precision    recall  f1-score   support\n",
      "\n",
      "no improvement       0.94      0.95      0.94      1628\n",
      "   improvement       0.93      0.92      0.93      1372\n",
      "\n",
      "      accuracy                           0.94      3000\n",
      "     macro avg       0.93      0.93      0.93      3000\n",
      "  weighted avg       0.93      0.94      0.93      3000\n",
      "\n",
      "\n",
      "Confusion Matrix:\n",
      "[[1540   88]\n",
      " [ 107 1265]]\n"
     ]
    }
   ],
   "execution_count": 11
  },
  {
   "metadata": {
    "ExecuteTime": {
     "end_time": "2025-06-14T02:30:39.003031Z",
     "start_time": "2025-06-14T02:30:38.794380Z"
    }
   },
   "cell_type": "code",
   "source": [
    "\n",
    "# Feature importance for tree-based models\n",
    "print(\"\\n\" + \"=\"*50)\n",
    "print(\"FEATURE IMPORTANCE\")\n",
    "print(\"=\"*50)\n",
    "\n",
    "feature_names = list(X_encoded.columns)\n",
    "\n",
    "# for name in ['XGBoost', 'Random Forest','LightGBM','CatBoost']:\n",
    "for name in ['XGBoost','LightGBM']:\n",
    "    print(f\"\\n🔸 {name} Feature Importance:\")\n",
    "    model = trained_models[name]\n",
    "    if hasattr(model, 'feature_importances_'):\n",
    "        importance_df = pd.DataFrame({\n",
    "            'feature': feature_names,\n",
    "            'importance': model.feature_importances_\n",
    "        }).sort_values('importance', ascending=False)\n",
    "\n",
    "        print(importance_df)"
   ],
   "id": "a3350c4f0eec0f62",
   "outputs": [
    {
     "name": "stdout",
     "output_type": "stream",
     "text": [
      "\n",
      "==================================================\n",
      "FEATURE IMPORTANCE\n",
      "==================================================\n",
      "\n",
      "🔸 XGBoost Feature Importance:\n",
      "              feature  importance\n",
      "6      severity_score    0.780545\n",
      "1              gender    0.038526\n",
      "0                 age    0.037191\n",
      "5  chronic conditions    0.037068\n",
      "3            medicine    0.036226\n",
      "2           diagnosis    0.035282\n",
      "4           allergies    0.035163\n",
      "\n",
      "🔸 LightGBM Feature Importance:\n",
      "              feature  importance\n",
      "6      severity_score         998\n",
      "0                 age         931\n",
      "2           diagnosis         319\n",
      "5  chronic conditions         254\n",
      "3            medicine         229\n",
      "4           allergies         150\n",
      "1              gender         119\n"
     ]
    }
   ],
   "execution_count": 12
  },
  {
   "metadata": {
    "ExecuteTime": {
     "end_time": "2025-06-14T02:30:39.497166Z",
     "start_time": "2025-06-14T02:30:39.457721Z"
    }
   },
   "cell_type": "code",
   "source": [
    "\n",
    "# Hyperparameter tuning for best model\n",
    "print(\"\\n\" + \"=\"*50)\n",
    "print(\"HYPERPARAMETER TUNING\")\n",
    "print(\"=\"*50)"
   ],
   "id": "15d440d6b4defb99",
   "outputs": [
    {
     "name": "stdout",
     "output_type": "stream",
     "text": [
      "\n",
      "==================================================\n",
      "HYPERPARAMETER TUNING\n",
      "==================================================\n"
     ]
    }
   ],
   "execution_count": 13
  },
  {
   "metadata": {
    "ExecuteTime": {
     "end_time": "2025-06-14T02:30:40.078202Z",
     "start_time": "2025-06-14T02:30:40.028376Z"
    }
   },
   "cell_type": "code",
   "source": [
    "\n",
    "# Find best performing model\n",
    "best_model_name = max(results.keys(), key=lambda x: results[x]['roc_auc'])\n",
    "print(f\"Best performing model: {best_model_name} (ROC-AUC: {results[best_model_name]['roc_auc']:.4f})\")"
   ],
   "id": "e8de030b58e05721",
   "outputs": [
    {
     "name": "stdout",
     "output_type": "stream",
     "text": [
      "Best performing model: LightGBM (ROC-AUC: 0.9812)\n"
     ]
    }
   ],
   "execution_count": 14
  },
  {
   "metadata": {
    "ExecuteTime": {
     "end_time": "2025-06-14T02:34:03.339348Z",
     "start_time": "2025-06-14T02:30:40.438238Z"
    }
   },
   "cell_type": "code",
   "source": [
    "if best_model_name == 'XGBoost':\n",
    "    param_grid = {\n",
    "        'n_estimators': [100, 200],\n",
    "        'max_depth':    [3, 5, 7],\n",
    "        'learning_rate': [0.01, 0.1, 0.2]\n",
    "    }\n",
    "    base_model = xgb.XGBClassifier(random_state=42, eval_metric='logloss')\n",
    "\n",
    "elif best_model_name == 'Random Forest':\n",
    "    param_grid = {\n",
    "        'n_estimators':     [100, 200, 300],\n",
    "        'max_depth':        [10, 20, None],\n",
    "        'min_samples_split': [2, 5, 10]\n",
    "    }\n",
    "    base_model = RandomForestClassifier(random_state=42)\n",
    "\n",
    "elif best_model_name == 'LightGBM':\n",
    "    param_grid = {\n",
    "        'n_estimators':     [100, 200, 300],\n",
    "        'num_leaves':       [31, 50, 100],\n",
    "        'learning_rate':    [0.01, 0.05, 0.1]\n",
    "    }\n",
    "    base_model = lgb.LGBMClassifier(random_state=42)\n",
    "\n",
    "elif best_model_name == 'CatBoost':\n",
    "    param_grid = {\n",
    "        'iterations':        [200, 500],\n",
    "        'depth':             [4, 6, 8],\n",
    "        'learning_rate':     [0.01, 0.05]\n",
    "    }\n",
    "    base_model = CatBoostClassifier(random_seed=42, verbose=0)\n",
    "\n",
    "else:  # SVM\n",
    "    param_grid = {\n",
    "        'C':      [0.1, 1, 10],\n",
    "        'gamma':  ['scale','auto'],\n",
    "        'kernel': ['rbf','linear']\n",
    "    }\n",
    "    base_model = SVC(random_state=42, probability=True)\n",
    "\n",
    "# Choose appropriate training data\n",
    "X_tune = X_train_scaled if best_model_name == 'SVM' else X_train\n",
    "X_test_final = X_test_scaled if best_model_name == 'SVM' else X_test\n",
    "\n",
    "# Grid search\n",
    "print(f\"\\nTuning hyperparameters for {best_model_name}...\")\n",
    "grid_search = GridSearchCV(base_model, param_grid, cv=3, scoring='roc_auc', n_jobs=-1)\n",
    "grid_search.fit(X_tune, y_train)\n",
    "\n",
    "print(\"Best parameters:\", grid_search.best_params_)\n",
    "print(\"Best CV ROC-AUC:\", grid_search.best_score_)\n"
   ],
   "id": "a2cd3f07a44f5b2f",
   "outputs": [
    {
     "name": "stdout",
     "output_type": "stream",
     "text": [
      "\n",
      "Tuning hyperparameters for LightGBM...\n",
      "[LightGBM] [Warning] Found whitespace in feature_names, replace with underlines\n",
      "[LightGBM] [Info] Number of positive: 5489, number of negative: 6511\n",
      "[LightGBM] [Info] Auto-choosing row-wise multi-threading, the overhead of testing was 0.000830 seconds.\n",
      "You can set `force_row_wise=true` to remove the overhead.\n",
      "And if memory is not enough, you can set `force_col_wise=true`.\n",
      "[LightGBM] [Info] Total Bins 390\n",
      "[LightGBM] [Info] Number of data points in the train set: 12000, number of used features: 7\n",
      "[LightGBM] [Info] [binary:BoostFromScore]: pavg=0.457417 -> initscore=-0.170747\n",
      "[LightGBM] [Info] Start training from score -0.170747\n",
      "Best parameters: {'learning_rate': 0.01, 'n_estimators': 200, 'num_leaves': 31}\n",
      "Best CV ROC-AUC: 0.9804384160527948\n"
     ]
    }
   ],
   "execution_count": 15
  },
  {
   "metadata": {
    "ExecuteTime": {
     "end_time": "2025-06-14T02:34:04.151836Z",
     "start_time": "2025-06-14T02:34:03.825812Z"
    }
   },
   "cell_type": "code",
   "source": [
    "\n",
    "# Final model evaluation\n",
    "final_model = grid_search.best_estimator_\n",
    "y_pred_final = final_model.predict(X_test_final)\n",
    "y_pred_proba_final = final_model.predict_proba(X_test_final)[:, 1]\n",
    "\n",
    "final_accuracy = accuracy_score(y_test, y_pred_final)\n",
    "final_roc_auc = roc_auc_score(y_test, y_pred_proba_final)\n",
    "\n",
    "print(f\"\\nFinal tuned {best_model_name} Results:\")\n",
    "print(f\"Accuracy: {final_accuracy:.4f}\")\n",
    "print(f\"ROC-AUC: {final_roc_auc:.4f}\")"
   ],
   "id": "82e949a524eede5d",
   "outputs": [
    {
     "name": "stdout",
     "output_type": "stream",
     "text": [
      "\n",
      "Final tuned LightGBM Results:\n",
      "Accuracy: 0.9353\n",
      "ROC-AUC: 0.9808\n"
     ]
    }
   ],
   "execution_count": 16
  },
  {
   "metadata": {
    "ExecuteTime": {
     "end_time": "2025-06-14T02:34:04.695536Z",
     "start_time": "2025-06-14T02:34:04.582088Z"
    }
   },
   "cell_type": "code",
   "source": [
    "\n",
    "# Summary comparison\n",
    "print(\"\\n\" + \"=\"*50)\n",
    "print(\"FINAL MODEL COMPARISON SUMMARY\")\n",
    "print(\"=\"*50)\n",
    "\n",
    "summary_df = pd.DataFrame({\n",
    "    'Model': list(results.keys()),\n",
    "    'Accuracy': [results[name]['accuracy'] for name in results.keys()],\n",
    "    'ROC-AUC': [results[name]['roc_auc'] for name in results.keys()],\n",
    "    'CV Accuracy': [results[name]['cv_mean'] for name in results.keys()],\n",
    "    'CV Std': [results[name]['cv_std'] for name in results.keys()]\n",
    "})\n",
    "\n",
    "print(summary_df.round(4))\n",
    "\n",
    "# Add tuned model results\n",
    "print(f\"\\nTuned {best_model_name}:\")\n",
    "print(f\"Accuracy: {final_accuracy:.4f}\")\n",
    "print(f\"ROC-AUC: {final_roc_auc:.4f}\")\n",
    "\n",
    "print(\"\\n🎯 RECOMMENDATIONS:\")\n",
    "print(f\"• Best base model: {best_model_name}\")\n",
    "print(f\"• After tuning, {best_model_name} achieved {final_roc_auc:.4f} ROC-AUC\")\n",
    "if final_roc_auc > results[best_model_name]['roc_auc']:\n",
    "    improvement = final_roc_auc - results[best_model_name]['roc_auc']\n",
    "    print(f\"• Hyperparameter tuning improved performance by {improvement:.4f}\")\n",
    "else:\n",
    "    print(\"• Hyperparameter tuning did not significantly improve performance\")"
   ],
   "id": "d672351687f24885",
   "outputs": [
    {
     "name": "stdout",
     "output_type": "stream",
     "text": [
      "\n",
      "==================================================\n",
      "FINAL MODEL COMPARISON SUMMARY\n",
      "==================================================\n",
      "      Model  Accuracy  ROC-AUC  CV Accuracy  CV Std\n",
      "0   XGBoost     0.929   0.9791       0.9183  0.0014\n",
      "1  LightGBM     0.935   0.9812       0.9246  0.0015\n",
      "\n",
      "Tuned LightGBM:\n",
      "Accuracy: 0.9353\n",
      "ROC-AUC: 0.9808\n",
      "\n",
      "🎯 RECOMMENDATIONS:\n",
      "• Best base model: LightGBM\n",
      "• After tuning, LightGBM achieved 0.9808 ROC-AUC\n",
      "• Hyperparameter tuning did not significantly improve performance\n"
     ]
    }
   ],
   "execution_count": 17
  },
  {
   "metadata": {
    "ExecuteTime": {
     "end_time": "2025-06-14T02:34:05.264977Z",
     "start_time": "2025-06-14T02:34:05.218152Z"
    }
   },
   "cell_type": "code",
   "source": [
    "\n",
    "# Sample predictions\n",
    "print(\"\\n\" + \"=\"*50)\n",
    "print(\"SAMPLE PREDICTIONS\")\n",
    "print(\"=\"*50)\n",
    "\n",
    "sample_indices = np.random.choice(len(X_test), 5, replace=False)\n",
    "for i in sample_indices:\n",
    "    actual = 'improvement' if y_test[i] == 1 else 'no improvement'\n",
    "    predicted = 'improvement' if y_pred_final[i] == 1 else 'no improvement'\n",
    "    probability = y_pred_proba_final[i]\n",
    "\n",
    "    print(f\"\\nSample {i+1}:\")\n",
    "    print(f\"  Actual: {actual}\")\n",
    "    print(f\"  Predicted: {predicted}\")\n",
    "    print(f\"  Probability of improvement: {probability:.3f}\")"
   ],
   "id": "18969b37ea6bc895",
   "outputs": [
    {
     "name": "stdout",
     "output_type": "stream",
     "text": [
      "\n",
      "==================================================\n",
      "SAMPLE PREDICTIONS\n",
      "==================================================\n",
      "\n",
      "Sample 376:\n",
      "  Actual: improvement\n",
      "  Predicted: improvement\n",
      "  Probability of improvement: 0.923\n",
      "\n",
      "Sample 408:\n",
      "  Actual: no improvement\n",
      "  Predicted: no improvement\n",
      "  Probability of improvement: 0.064\n",
      "\n",
      "Sample 2492:\n",
      "  Actual: improvement\n",
      "  Predicted: improvement\n",
      "  Probability of improvement: 0.916\n",
      "\n",
      "Sample 2002:\n",
      "  Actual: no improvement\n",
      "  Predicted: no improvement\n",
      "  Probability of improvement: 0.237\n",
      "\n",
      "Sample 2543:\n",
      "  Actual: improvement\n",
      "  Predicted: improvement\n",
      "  Probability of improvement: 0.923\n"
     ]
    }
   ],
   "execution_count": 18
  },
  {
   "metadata": {
    "ExecuteTime": {
     "end_time": "2025-06-14T02:34:06.135154Z",
     "start_time": "2025-06-14T02:34:05.918741Z"
    }
   },
   "cell_type": "code",
   "source": [
    "import joblib\n",
    "joblib.dump(final_model, 'predict_improvement_model.pkl')\n",
    "print(\"▶ Saved best model to best_model.pkl\")\n",
    "joblib.dump(label_encoders, 'predict_improvement_encoders.pkl')\n",
    "print(\"▶ Saved label encoders to predict_improvement_encoders\")\n",
    "target_encoder = LabelEncoder().fit(y)\n",
    "joblib.dump(target_encoder, 'predict_improvement_target.pkl')\n",
    "print(\"▶ Saved target encoder to target.pkl\")\n"
   ],
   "id": "f5a1a125a1b70a4",
   "outputs": [
    {
     "name": "stdout",
     "output_type": "stream",
     "text": [
      "▶ Saved best model to best_model.pkl\n",
      "▶ Saved label encoders to predict_improvement_encoders\n",
      "▶ Saved target encoder to target.pkl\n"
     ]
    }
   ],
   "execution_count": 19
  }
 ],
 "metadata": {
  "kernelspec": {
   "display_name": "Python 3",
   "language": "python",
   "name": "python3"
  },
  "language_info": {
   "codemirror_mode": {
    "name": "ipython",
    "version": 2
   },
   "file_extension": ".py",
   "mimetype": "text/x-python",
   "name": "python",
   "nbconvert_exporter": "python",
   "pygments_lexer": "ipython2",
   "version": "2.7.6"
  }
 },
 "nbformat": 4,
 "nbformat_minor": 5
}
